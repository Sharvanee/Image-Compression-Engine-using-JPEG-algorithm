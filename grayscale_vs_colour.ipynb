{
 "cells": [
  {
   "cell_type": "code",
   "execution_count": 1,
   "id": "36e10e1a-e940-447a-8a97-8dc148541695",
   "metadata": {},
   "outputs": [
    {
     "name": "stdout",
     "output_type": "stream",
     "text": [
      "Plot saved for category: crocodile at plots/crocodile_RMSE_vs_BPP.png\n",
      "Plot saved for category: ketch at plots/ketch_RMSE_vs_BPP.png\n",
      "Plot saved for category: strawberry at plots/strawberry_RMSE_vs_BPP.png\n",
      "Plot saved for category: sunflower at plots/sunflower_RMSE_vs_BPP.png\n",
      "Skipping cougar_face as data for image_0010.jpg is incomplete.\n",
      "Plot saved for category: pigeon at plots/pigeon_RMSE_vs_BPP.png\n",
      "Plot saved for category: airplanes at plots/airplanes_RMSE_vs_BPP.png\n",
      "Plot saved for category: pizza at plots/pizza_RMSE_vs_BPP.png\n",
      "Plot saved for category: panda at plots/panda_RMSE_vs_BPP.png\n",
      "Plot saved for category: soccer_ball at plots/soccer_ball_RMSE_vs_BPP.png\n",
      "All plots are saved in the 'plots' folder.\n"
     ]
    }
   ],
   "source": [
    "import pandas as pd\n",
    "import matplotlib.pyplot as plt\n",
    "import os\n",
    "\n",
    "# Load the grayscale and color results CSV files\n",
    "grayscale_results = pd.read_csv(\"results.csv\")\n",
    "color_results = pd.read_csv(\"colour_results.csv\")\n",
    "\n",
    "# Get the unique categories from grayscale or color results\n",
    "categories = grayscale_results[\"Category\"].unique()\n",
    "\n",
    "# Create a folder to save plots\n",
    "os.makedirs(\"plots\", exist_ok=True)\n",
    "\n",
    "# Iterate over each category and plot RMSE vs BPP for image_0010.jpg\n",
    "for category in categories:\n",
    "    # Filter grayscale and color data for the specific category and image_0010.jpg\n",
    "    grayscale_data = grayscale_results[\n",
    "        (grayscale_results[\"Category\"] == category) & (grayscale_results[\"Image\"] == \"image_0010.jpg\")\n",
    "    ]\n",
    "    color_data = color_results[\n",
    "        (color_results[\"Category\"] == category) & (color_results[\"Image\"] == \"image_0010.jpg\")\n",
    "    ]\n",
    "\n",
    "    if grayscale_data.empty or color_data.empty:\n",
    "        # Skip the category if data is missing\n",
    "        print(f\"Skipping {category} as data for image_0010.jpg is incomplete.\")\n",
    "        continue\n",
    "\n",
    "    # Extract BPP and RMSE values\n",
    "    grayscale_bpp = grayscale_data[\"BPP\"].values\n",
    "    grayscale_rmse = grayscale_data[\"RMSE\"].values\n",
    "\n",
    "    color_bpp = color_data[\"BPP\"].values\n",
    "    color_rmse = color_data[\"RMSE\"].values\n",
    "\n",
    "    # Plot the RMSE vs BPP for both grayscale and color\n",
    "    plt.figure(figsize=(8, 6))\n",
    "    plt.plot(grayscale_bpp, grayscale_rmse, label=\"Grayscale\", marker=\"o\", color=\"blue\")\n",
    "    plt.plot(color_bpp, color_rmse, label=\"Color\", marker=\"o\", color=\"red\")\n",
    "\n",
    "    plt.xlabel(\"BPP (Bits Per Pixel)\")\n",
    "    plt.ylabel(\"Relative RMSE\")\n",
    "    plt.title(f\"RMSE vs BPP for Grayscale and Color Compression ({category}, image_0010.jpg)\")\n",
    "    plt.legend()\n",
    "    plt.grid(True)\n",
    "\n",
    "    # Save the plot as an image file\n",
    "    plot_path = f\"plots/{category}_RMSE_vs_BPP.png\"\n",
    "    plt.savefig(plot_path)\n",
    "    plt.close()\n",
    "\n",
    "    print(f\"Plot saved for category: {category} at {plot_path}\")\n",
    "\n",
    "print(\"All plots are saved in the 'plots' folder.\")\n"
   ]
  },
  {
   "cell_type": "code",
   "execution_count": null,
   "id": "776ddb85-0550-4bae-b373-959dd87e9278",
   "metadata": {},
   "outputs": [],
   "source": []
  }
 ],
 "metadata": {
  "kernelspec": {
   "display_name": "Python 3 (ipykernel)",
   "language": "python",
   "name": "python3"
  },
  "language_info": {
   "codemirror_mode": {
    "name": "ipython",
    "version": 3
   },
   "file_extension": ".py",
   "mimetype": "text/x-python",
   "name": "python",
   "nbconvert_exporter": "python",
   "pygments_lexer": "ipython3",
   "version": "3.10.12"
  }
 },
 "nbformat": 4,
 "nbformat_minor": 5
}
